{
  "cells": [
    {
      "cell_type": "markdown",
      "metadata": {
        "id": "view-in-github",
        "colab_type": "text"
      },
      "source": [
        "<a href=\"https://colab.research.google.com/github/andreshdz1/Optimization.umg/blob/main/times.ipynb\" target=\"_parent\"><img src=\"https://colab.research.google.com/assets/colab-badge.svg\" alt=\"Open In Colab\"/></a>"
      ]
    },
    {
      "cell_type": "markdown",
      "metadata": {
        "id": "cEneEwZeU5uN"
      },
      "source": [
        "# MEASURING OF bigO times\n",
        "###by ANDRES HERNANDEZ\n",
        "<p>first im going to declare some libraries and a function to fill an array<p>\n"
      ]
    },
    {
      "cell_type": "code",
      "execution_count": null,
      "metadata": {
        "colab": {
          "base_uri": "https://localhost:8080/"
        },
        "id": "t-C0yyEEVXUb",
        "outputId": "09fb9b20-63a3-4c28-cdbe-9a2afe638c74"
      },
      "outputs": [
        {
          "name": "stdout",
          "output_type": "stream",
          "text": [
            "[5 8 7 2 1 7 2 6 1 5 1 2 2 5 8]\n"
          ]
        }
      ],
      "source": [
        "import numpy as np\n",
        "import matplotlib.pyplot as plt\n",
        "\n",
        "def random_array(a):\n",
        "  return np.random.randint(10, size = a)\n",
        "#example of woking\n",
        "example = random_array(15)\n",
        "print(example)"
      ]
    },
    {
      "cell_type": "markdown",
      "metadata": {
        "id": "nsvopSLuf10Z"
      },
      "source": []
    },
    {
      "cell_type": "markdown",
      "metadata": {
        "id": "NQF2R0uFXn1G"
      },
      "source": [
        "## the next step is to create function for each O()time\n",
        "\n",
        "\n",
        "*   linear\n",
        "*   cuadratic\n",
        "*   cubic\n",
        "*   cubic plus cuadratic\n",
        "\n"
      ]
    },
    {
      "cell_type": "code",
      "execution_count": null,
      "metadata": {
        "id": "-wBblIwOZVAM"
      },
      "outputs": [],
      "source": [
        "def constant(number):\n",
        "  number +=1\n",
        "\n",
        "def linear(number):\n",
        "  for i in number:\n",
        "    test = i+1\n",
        "\n",
        "def cuadratic(number):\n",
        "  for i in number:\n",
        "    for j in number:\n",
        "      cuadratic_test = j-i\n",
        "\n",
        "def cubic(number):\n",
        "  for i in number:\n",
        "    for j in number:\n",
        "      for k in number:\n",
        "        cubic_test = i+1\n",
        "\n",
        "def cubicPlus(number):\n",
        "  cubic(number)\n",
        "  linear(number)\n",
        "  linear(number)"
      ]
    },
    {
      "cell_type": "markdown",
      "metadata": {
        "id": "30lXkyOmc8Qd"
      },
      "source": [
        "### next is give the sizes of the array and the space where we are going to save the times for its next comparising\n"
      ]
    },
    {
      "cell_type": "code",
      "execution_count": null,
      "metadata": {
        "id": "DXgJVLn4dMtl"
      },
      "outputs": [],
      "source": [
        "sizes = [1, 10, 100, 1000, 10000]\n",
        "linearT = []\n",
        "cuadradicT = []\n",
        "cubicT = []\n",
        "cubicPlusT = []"
      ]
    },
    {
      "cell_type": "markdown",
      "metadata": {
        "id": "SOOMLoz1dYrW"
      },
      "source": [
        "### we must check times for each function in order to be able of making graphics from it\n",
        "<p>linear<p>"
      ]
    },
    {
      "cell_type": "code",
      "execution_count": null,
      "metadata": {
        "colab": {
          "base_uri": "https://localhost:8080/"
        },
        "id": "-aWdu-Tkd0bM",
        "outputId": "a66d9cfe-c104-4419-def1-bf9d7ac65298"
      },
      "outputs": [
        {
          "name": "stdout",
          "output_type": "stream",
          "text": [
            "N:  1 ,  total =  1.4066696166992188e-05\n",
            "N:  10 ,  total =  1.1920928955078125e-05\n",
            "N:  100 ,  total =  0.00017118453979492188\n",
            "N:  1000 ,  total =  0.0001761913299560547\n",
            "N:  10000 ,  total =  0.0016736984252929688\n"
          ]
        }
      ],
      "source": [
        "import time\n",
        "for i in sizes:\n",
        "  array = random_array(i)\n",
        "  begining = time.time()\n",
        "  linear(array)\n",
        "  end = time.time()\n",
        "  total = end - begining\n",
        "  linearT.append(total)\n",
        "  print(\"N: \",i,\",  total = \", total)"
      ]
    },
    {
      "cell_type": "markdown",
      "metadata": {
        "id": "ixf8yRGDxOgH"
      },
      "source": [
        "<p>cuadratic<p>"
      ]
    },
    {
      "cell_type": "code",
      "execution_count": null,
      "metadata": {
        "colab": {
          "base_uri": "https://localhost:8080/"
        },
        "id": "Hu3D6YHqxStW",
        "outputId": "0c62109c-cfa4-43a8-a794-7c0bdb174e08"
      },
      "outputs": [
        {
          "name": "stdout",
          "output_type": "stream",
          "text": [
            "N:  1 ,  total =  1.7404556274414062e-05\n",
            "N:  10 ,  total =  4.100799560546875e-05\n",
            "N:  100 ,  total =  0.0024700164794921875\n",
            "N:  1000 ,  total =  0.21376252174377441\n",
            "N:  10000 ,  total =  25.17524528503418\n"
          ]
        }
      ],
      "source": [
        "for i in sizes:\n",
        "  array = random_array(i)\n",
        "  begining = time.time()\n",
        "  cuadratic(array)\n",
        "  end = time.time()\n",
        "  total = end - begining\n",
        "  cuadradicT.append(total)\n",
        "  print(\"N: \",i,\",  total = \", total)"
      ]
    },
    {
      "cell_type": "markdown",
      "metadata": {
        "id": "jsocPMgfirmJ"
      },
      "source": [
        "<p>cubic<p>"
      ]
    },
    {
      "cell_type": "code",
      "execution_count": null,
      "metadata": {
        "colab": {
          "background_save": true,
          "base_uri": "https://localhost:8080/"
        },
        "id": "EpFvYCGTiymy",
        "outputId": "99741f52-8b1d-4e0d-97fa-e5a8bcbd2460"
      },
      "outputs": [
        {
          "name": "stdout",
          "output_type": "stream",
          "text": [
            "N:  1 ,  total =  1.4781951904296875e-05\n",
            "N:  10 ,  total =  0.0004763603210449219\n",
            "N:  100 ,  total =  0.30028319358825684\n",
            "N:  1000 ,  total =  144.71506905555725\n"
          ]
        }
      ],
      "source": [
        "for i in sizes:\n",
        "  array = random_array(i)\n",
        "  begining = time.time()\n",
        "  cubic(array)\n",
        "  end = time.time()\n",
        "  total = end - begining\n",
        "  cubicT.append(total)\n",
        "  print(\"N: \",i,\",  total = \", total)"
      ]
    },
    {
      "cell_type": "markdown",
      "metadata": {
        "id": "TekCPfJRjwbo"
      },
      "source": [
        "<p>Cubic, plus two times linear<p>"
      ]
    },
    {
      "cell_type": "code",
      "execution_count": null,
      "metadata": {
        "id": "toof_MGNj1dC"
      },
      "outputs": [],
      "source": [
        "for i in sizes:\n",
        "  array = random_array(i)\n",
        "  begining = time.time()\n",
        "  cubicPlus(array)\n",
        "  end = time.time()\n",
        "  total = end - begining\n",
        "  cubicPlusT.append(total)\n",
        "  print(\"N: \",i,\",  total = \", total)"
      ]
    },
    {
      "cell_type": "markdown",
      "metadata": {
        "id": "0vawDW9oj_k8"
      },
      "source": [
        "## GRAPHIC OF TIMES\n",
        "<p>im going to compare running times, inside of a graphic, you will realize how some times as cubic are deployed on a certain point just so big, in a diference of linear or cuadratic<p>"
      ]
    },
    {
      "cell_type": "code",
      "execution_count": null,
      "metadata": {
        "id": "_NUcngpFN-i8"
      },
      "outputs": [],
      "source": [
        "plt.plot(sizes, linearT, label='linear')\n",
        "plt.plot(sizes, cuadradicT, label = 'cuadratic')\n",
        "plt.plot(sizes, cubicT, label = 'cubic')\n",
        "plt.plot(sizes, cubicPlusT, label = 'cubic + 2*linear')"
      ]
    },
    {
      "cell_type": "code",
      "execution_count": null,
      "metadata": {
        "id": "tBAJB0kzmG7r"
      },
      "outputs": [],
      "source": [
        "import seaborn as sns\n",
        "sns.set_theme()\n",
        "\n",
        "plt.plot(sizes, linearT, c = \"r\", label = \"Linear\")\n",
        "\n",
        "plt.plot(sizes, cuadradicT, c = \"b\", label = \"Cuadratic\")\n",
        "\n",
        "plt.plot(sizes, cubicT, c = \"y\", label = \"Cubic\")\n",
        "\n",
        "plt.plot(sizes, cubicPlusT, c = \"g\", label = \"Cubic + 2n\")\n",
        "plt.xlabel(\"N\")\n",
        "plt.ylabel(\"Time in seconds\")\n",
        "plt.title(\"big O times\")\n",
        "plt.legend()"
      ]
    }
  ],
  "metadata": {
    "colab": {
      "provenance": [],
      "authorship_tag": "ABX9TyOU1qk90At8F1t5BggE2gMN",
      "include_colab_link": true
    },
    "kernelspec": {
      "display_name": "Python 3",
      "name": "python3"
    },
    "language_info": {
      "name": "python"
    }
  },
  "nbformat": 4,
  "nbformat_minor": 0
}